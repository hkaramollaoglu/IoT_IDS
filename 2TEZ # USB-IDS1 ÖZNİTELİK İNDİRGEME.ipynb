{
 "cells": [
  {
   "cell_type": "code",
   "execution_count": 1,
   "id": "a431a0fb",
   "metadata": {},
   "outputs": [],
   "source": [
    "import pandas as pd\n",
    "import numpy as np\n",
    "from matplotlib import pyplot as plt\n",
    "import seaborn as sns\n",
    "\n",
    "df_train = pd.read_csv('I:\\\\usb-ids-1binary\\\\USB-IDS-1_train.csv')\n",
    "df_test = pd.read_csv('I:\\\\usb-ids-1binary\\\\USB-IDS-1_test.csv')\n",
    "\n"
   ]
  },
  {
   "cell_type": "code",
   "execution_count": null,
   "id": "4020ae5b",
   "metadata": {},
   "outputs": [],
   "source": [
    "df_train.head()"
   ]
  },
  {
   "cell_type": "code",
   "execution_count": 2,
   "id": "c9a282e4",
   "metadata": {},
   "outputs": [],
   "source": [
    "df_train= df_train.drop(['Unnamed: 0'], axis=1)"
   ]
  },
  {
   "cell_type": "code",
   "execution_count": 3,
   "id": "db0e95d1",
   "metadata": {},
   "outputs": [
    {
     "name": "stdout",
     "output_type": "stream",
     "text": [
      "original length of df: 3369368\n"
     ]
    }
   ],
   "source": [
    "df_train.columns = df_train.columns.str.strip()\n",
    "print(\"original length of df:\", len(df_train))\n",
    "df_train.replace([np.inf, -np.inf], np.nan, inplace=True)\n",
    "df_train.dropna(inplace=True)\n"
   ]
  },
  {
   "cell_type": "code",
   "execution_count": null,
   "id": "f8d028e7",
   "metadata": {},
   "outputs": [],
   "source": [
    "y_train.value_counts()"
   ]
  },
  {
   "cell_type": "code",
   "execution_count": 5,
   "id": "99932f92",
   "metadata": {},
   "outputs": [],
   "source": [
    "from sklearn import preprocessing \n",
    "label_encoder = preprocessing.LabelEncoder() \n",
    "from sklearn.preprocessing import LabelEncoder\n",
    "le = LabelEncoder()\n",
    "df_train2=df_train.apply(le.fit_transform)"
   ]
  },
  {
   "cell_type": "code",
   "execution_count": null,
   "id": "9a7eb7de",
   "metadata": {},
   "outputs": [],
   "source": [
    "list(le.classes_)"
   ]
  },
  {
   "cell_type": "code",
   "execution_count": 4,
   "id": "e98465dd",
   "metadata": {},
   "outputs": [],
   "source": [
    "df_test= df_test.drop(['Unnamed: 0'], axis=1)"
   ]
  },
  {
   "cell_type": "code",
   "execution_count": 6,
   "id": "6dd3e2c1",
   "metadata": {},
   "outputs": [],
   "source": [
    "from sklearn import preprocessing \n",
    "label_encoder = preprocessing.LabelEncoder() \n",
    "from sklearn.preprocessing import LabelEncoder\n",
    "le = LabelEncoder()\n",
    "df_test2=df_test.apply(le.fit_transform)"
   ]
  },
  {
   "cell_type": "code",
   "execution_count": null,
   "id": "a3a87216",
   "metadata": {},
   "outputs": [],
   "source": [
    "df_train2.head()"
   ]
  },
  {
   "cell_type": "code",
   "execution_count": 7,
   "id": "0673a05d",
   "metadata": {},
   "outputs": [],
   "source": [
    "X_train= df_train2.drop(['83'], axis=1)"
   ]
  },
  {
   "cell_type": "code",
   "execution_count": 8,
   "id": "ff8f6ff1",
   "metadata": {},
   "outputs": [],
   "source": [
    "y_train = df_train2['83']"
   ]
  },
  {
   "cell_type": "code",
   "execution_count": 9,
   "id": "2c68451a",
   "metadata": {},
   "outputs": [],
   "source": [
    "X_test= df_test2.drop(['83'], axis=1)"
   ]
  },
  {
   "cell_type": "code",
   "execution_count": 10,
   "id": "915f1466",
   "metadata": {},
   "outputs": [],
   "source": [
    "y_test = df_test2['83']"
   ]
  },
  {
   "cell_type": "code",
   "execution_count": null,
   "id": "1c39b23d",
   "metadata": {},
   "outputs": [],
   "source": [
    "\n",
    "labels = y_train.unique()\n",
    "\n",
    "classes = y_train.nunique()\n",
    "print(X_train.shape)\n",
    "print(\"number of labels:\", classes)\n",
    "print(\"instances per label\\n\", y_train.value_counts())\n",
    "print(\"labels:\", labels)\n"
   ]
  },
  {
   "cell_type": "code",
   "execution_count": null,
   "id": "526607c8",
   "metadata": {},
   "outputs": [],
   "source": [
    "labels = y_test.unique()\n",
    "\n",
    "classes = y_test.nunique()\n",
    "print(X_test.shape)\n",
    "print(\"number of labels:\", classes)\n",
    "print(\"instances per label\\n\", y_test.value_counts())\n",
    "print(\"labels:\", labels)"
   ]
  },
  {
   "cell_type": "code",
   "execution_count": 11,
   "id": "af3add55",
   "metadata": {},
   "outputs": [],
   "source": [
    "from sklearn.preprocessing import MinMaxScaler\n",
    "scaler = MinMaxScaler()\n",
    "model=scaler.fit(X_train)\n",
    "X_train=model.transform(X_train)"
   ]
  },
  {
   "cell_type": "code",
   "execution_count": 12,
   "id": "b870bbc3",
   "metadata": {},
   "outputs": [],
   "source": [
    "from sklearn.preprocessing import MinMaxScaler\n",
    "scaler = MinMaxScaler()\n",
    "model=scaler.fit(X_test)\n",
    "X_test=model.transform(X_test)"
   ]
  },
  {
   "cell_type": "code",
   "execution_count": null,
   "id": "f0032067",
   "metadata": {},
   "outputs": [],
   "source": [
    "list(le.classes_)"
   ]
  },
  {
   "cell_type": "code",
   "execution_count": 13,
   "id": "d7a01181",
   "metadata": {},
   "outputs": [],
   "source": [
    "from sklearn.decomposition import PCA\n",
    "import matplotlib.pyplot as plt\n",
    "import seaborn as sns\n",
    "from sklearn.utils import resample\n",
    "# %matplotlib inline\n",
    "\n",
    "X_train_pca, y_train_pca = resample(X_train, y_train, random_state=42, stratify=y_train)\n",
    "pca = PCA(0.99)\n",
    "X_train_pca = pca.fit_transform(X_train_pca)\n"
   ]
  },
  {
   "cell_type": "code",
   "execution_count": 14,
   "id": "d51b6eb1",
   "metadata": {},
   "outputs": [],
   "source": [
    "X_test_pca, y_test_pca = resample(X_test, y_test, random_state=42, stratify=y_test)\n",
    "X_test_pca = pca.transform(X_test_pca)\n"
   ]
  },
  {
   "cell_type": "code",
   "execution_count": 21,
   "id": "d6bc998d",
   "metadata": {},
   "outputs": [
    {
     "data": {
      "text/html": [
       "<div>\n",
       "<style scoped>\n",
       "    .dataframe tbody tr th:only-of-type {\n",
       "        vertical-align: middle;\n",
       "    }\n",
       "\n",
       "    .dataframe tbody tr th {\n",
       "        vertical-align: top;\n",
       "    }\n",
       "\n",
       "    .dataframe thead th {\n",
       "        text-align: right;\n",
       "    }\n",
       "</style>\n",
       "<table border=\"1\" class=\"dataframe\">\n",
       "  <thead>\n",
       "    <tr style=\"text-align: right;\">\n",
       "      <th></th>\n",
       "      <th>pca_comp_0</th>\n",
       "      <th>pca_comp_1</th>\n",
       "      <th>pca_comp_2</th>\n",
       "      <th>pca_comp_3</th>\n",
       "      <th>pca_comp_4</th>\n",
       "      <th>pca_comp_5</th>\n",
       "      <th>pca_comp_6</th>\n",
       "      <th>pca_comp_7</th>\n",
       "      <th>pca_comp_8</th>\n",
       "      <th>pca_comp_9</th>\n",
       "      <th>pca_comp_10</th>\n",
       "      <th>pca_comp_11</th>\n",
       "      <th>pca_comp_12</th>\n",
       "      <th>pca_comp_13</th>\n",
       "      <th>pca_comp_14</th>\n",
       "      <th>pca_comp_15</th>\n",
       "      <th>pca_comp_16</th>\n",
       "      <th>pca_comp_17</th>\n",
       "      <th>pca_comp_18</th>\n",
       "      <th>pca_comp_19</th>\n",
       "    </tr>\n",
       "  </thead>\n",
       "  <tbody>\n",
       "    <tr>\n",
       "      <th>0</th>\n",
       "      <td>-1.928468</td>\n",
       "      <td>0.332064</td>\n",
       "      <td>0.317491</td>\n",
       "      <td>0.163047</td>\n",
       "      <td>0.067036</td>\n",
       "      <td>-0.112883</td>\n",
       "      <td>0.076743</td>\n",
       "      <td>-0.033371</td>\n",
       "      <td>0.160185</td>\n",
       "      <td>-0.028365</td>\n",
       "      <td>0.024240</td>\n",
       "      <td>0.014062</td>\n",
       "      <td>-0.034162</td>\n",
       "      <td>-0.018299</td>\n",
       "      <td>-0.007357</td>\n",
       "      <td>0.011499</td>\n",
       "      <td>0.005419</td>\n",
       "      <td>-0.007127</td>\n",
       "      <td>-0.012948</td>\n",
       "      <td>-0.003739</td>\n",
       "    </tr>\n",
       "    <tr>\n",
       "      <th>1</th>\n",
       "      <td>-1.876042</td>\n",
       "      <td>0.374478</td>\n",
       "      <td>0.288245</td>\n",
       "      <td>0.170605</td>\n",
       "      <td>0.060000</td>\n",
       "      <td>-0.134731</td>\n",
       "      <td>0.062983</td>\n",
       "      <td>-0.010473</td>\n",
       "      <td>0.072117</td>\n",
       "      <td>0.012272</td>\n",
       "      <td>0.022443</td>\n",
       "      <td>-0.034489</td>\n",
       "      <td>-0.034059</td>\n",
       "      <td>0.014813</td>\n",
       "      <td>-0.002478</td>\n",
       "      <td>0.023051</td>\n",
       "      <td>0.001341</td>\n",
       "      <td>-0.012520</td>\n",
       "      <td>-0.017187</td>\n",
       "      <td>-0.005926</td>\n",
       "    </tr>\n",
       "    <tr>\n",
       "      <th>2</th>\n",
       "      <td>-0.488671</td>\n",
       "      <td>-0.724271</td>\n",
       "      <td>-0.400861</td>\n",
       "      <td>-0.788389</td>\n",
       "      <td>0.563109</td>\n",
       "      <td>0.063050</td>\n",
       "      <td>-0.187700</td>\n",
       "      <td>0.020021</td>\n",
       "      <td>-0.052502</td>\n",
       "      <td>-0.223643</td>\n",
       "      <td>-0.052249</td>\n",
       "      <td>0.120899</td>\n",
       "      <td>-0.088917</td>\n",
       "      <td>0.013333</td>\n",
       "      <td>0.066673</td>\n",
       "      <td>0.114194</td>\n",
       "      <td>-0.025507</td>\n",
       "      <td>-0.067244</td>\n",
       "      <td>-0.044964</td>\n",
       "      <td>-0.047622</td>\n",
       "    </tr>\n",
       "    <tr>\n",
       "      <th>3</th>\n",
       "      <td>-0.086644</td>\n",
       "      <td>-0.115931</td>\n",
       "      <td>-0.205381</td>\n",
       "      <td>-0.972322</td>\n",
       "      <td>0.095457</td>\n",
       "      <td>-0.098007</td>\n",
       "      <td>0.017692</td>\n",
       "      <td>0.098887</td>\n",
       "      <td>0.002299</td>\n",
       "      <td>0.058217</td>\n",
       "      <td>0.066567</td>\n",
       "      <td>0.056945</td>\n",
       "      <td>-0.035395</td>\n",
       "      <td>-0.136092</td>\n",
       "      <td>-0.016987</td>\n",
       "      <td>0.043474</td>\n",
       "      <td>0.073902</td>\n",
       "      <td>0.008435</td>\n",
       "      <td>0.134732</td>\n",
       "      <td>-0.001001</td>\n",
       "    </tr>\n",
       "    <tr>\n",
       "      <th>4</th>\n",
       "      <td>-0.137787</td>\n",
       "      <td>-0.710721</td>\n",
       "      <td>-0.435046</td>\n",
       "      <td>0.108410</td>\n",
       "      <td>0.113194</td>\n",
       "      <td>0.364600</td>\n",
       "      <td>-0.068376</td>\n",
       "      <td>-0.005738</td>\n",
       "      <td>0.098259</td>\n",
       "      <td>-0.169499</td>\n",
       "      <td>-0.047447</td>\n",
       "      <td>0.012789</td>\n",
       "      <td>-0.013361</td>\n",
       "      <td>-0.000494</td>\n",
       "      <td>-0.009349</td>\n",
       "      <td>0.075007</td>\n",
       "      <td>0.018204</td>\n",
       "      <td>-0.088185</td>\n",
       "      <td>-0.028738</td>\n",
       "      <td>-0.021297</td>\n",
       "    </tr>\n",
       "  </tbody>\n",
       "</table>\n",
       "</div>"
      ],
      "text/plain": [
       "   pca_comp_0  pca_comp_1  pca_comp_2  pca_comp_3  pca_comp_4  pca_comp_5  \\\n",
       "0   -1.928468    0.332064    0.317491    0.163047    0.067036   -0.112883   \n",
       "1   -1.876042    0.374478    0.288245    0.170605    0.060000   -0.134731   \n",
       "2   -0.488671   -0.724271   -0.400861   -0.788389    0.563109    0.063050   \n",
       "3   -0.086644   -0.115931   -0.205381   -0.972322    0.095457   -0.098007   \n",
       "4   -0.137787   -0.710721   -0.435046    0.108410    0.113194    0.364600   \n",
       "\n",
       "   pca_comp_6  pca_comp_7  pca_comp_8  pca_comp_9  pca_comp_10  pca_comp_11  \\\n",
       "0    0.076743   -0.033371    0.160185   -0.028365     0.024240     0.014062   \n",
       "1    0.062983   -0.010473    0.072117    0.012272     0.022443    -0.034489   \n",
       "2   -0.187700    0.020021   -0.052502   -0.223643    -0.052249     0.120899   \n",
       "3    0.017692    0.098887    0.002299    0.058217     0.066567     0.056945   \n",
       "4   -0.068376   -0.005738    0.098259   -0.169499    -0.047447     0.012789   \n",
       "\n",
       "   pca_comp_12  pca_comp_13  pca_comp_14  pca_comp_15  pca_comp_16  \\\n",
       "0    -0.034162    -0.018299    -0.007357     0.011499     0.005419   \n",
       "1    -0.034059     0.014813    -0.002478     0.023051     0.001341   \n",
       "2    -0.088917     0.013333     0.066673     0.114194    -0.025507   \n",
       "3    -0.035395    -0.136092    -0.016987     0.043474     0.073902   \n",
       "4    -0.013361    -0.000494    -0.009349     0.075007     0.018204   \n",
       "\n",
       "   pca_comp_17  pca_comp_18  pca_comp_19  \n",
       "0    -0.007127    -0.012948    -0.003739  \n",
       "1    -0.012520    -0.017187    -0.005926  \n",
       "2    -0.067244    -0.044964    -0.047622  \n",
       "3     0.008435     0.134732    -0.001001  \n",
       "4    -0.088185    -0.028738    -0.021297  "
      ]
     },
     "execution_count": 21,
     "metadata": {},
     "output_type": "execute_result"
    }
   ],
   "source": [
    "columns = ['pca_comp_%i' % i for i in range(20)]\n",
    "X_train2  = pd.DataFrame(X_train_pca, columns=columns)\n",
    "X_train2.head()"
   ]
  },
  {
   "cell_type": "code",
   "execution_count": 22,
   "id": "32b08c8f",
   "metadata": {},
   "outputs": [],
   "source": [
    "X_train= X_train2[[\"pca_comp_2\", \"pca_comp_3\",\"pca_comp_1\",\"pca_comp_12\", \"pca_comp_0\",\"pca_comp_5\"]]"
   ]
  },
  {
   "cell_type": "code",
   "execution_count": 23,
   "id": "00c0a770",
   "metadata": {},
   "outputs": [
    {
     "data": {
      "text/plain": [
       "(3369368, 6)"
      ]
     },
     "execution_count": 23,
     "metadata": {},
     "output_type": "execute_result"
    }
   ],
   "source": [
    "X_train.shape"
   ]
  },
  {
   "cell_type": "code",
   "execution_count": null,
   "id": "54b6c3bb",
   "metadata": {},
   "outputs": [],
   "source": [
    "X_train_pca.shape"
   ]
  },
  {
   "cell_type": "code",
   "execution_count": 24,
   "id": "89925207",
   "metadata": {},
   "outputs": [
    {
     "data": {
      "text/html": [
       "<div>\n",
       "<style scoped>\n",
       "    .dataframe tbody tr th:only-of-type {\n",
       "        vertical-align: middle;\n",
       "    }\n",
       "\n",
       "    .dataframe tbody tr th {\n",
       "        vertical-align: top;\n",
       "    }\n",
       "\n",
       "    .dataframe thead th {\n",
       "        text-align: right;\n",
       "    }\n",
       "</style>\n",
       "<table border=\"1\" class=\"dataframe\">\n",
       "  <thead>\n",
       "    <tr style=\"text-align: right;\">\n",
       "      <th></th>\n",
       "      <th>pca_comp_0</th>\n",
       "      <th>pca_comp_1</th>\n",
       "      <th>pca_comp_2</th>\n",
       "      <th>pca_comp_3</th>\n",
       "      <th>pca_comp_4</th>\n",
       "      <th>pca_comp_5</th>\n",
       "      <th>pca_comp_6</th>\n",
       "      <th>pca_comp_7</th>\n",
       "      <th>pca_comp_8</th>\n",
       "      <th>pca_comp_9</th>\n",
       "      <th>pca_comp_10</th>\n",
       "      <th>pca_comp_11</th>\n",
       "      <th>pca_comp_12</th>\n",
       "      <th>pca_comp_13</th>\n",
       "      <th>pca_comp_14</th>\n",
       "      <th>pca_comp_15</th>\n",
       "      <th>pca_comp_16</th>\n",
       "      <th>pca_comp_17</th>\n",
       "      <th>pca_comp_18</th>\n",
       "      <th>pca_comp_19</th>\n",
       "    </tr>\n",
       "  </thead>\n",
       "  <tbody>\n",
       "    <tr>\n",
       "      <th>0</th>\n",
       "      <td>1.647660</td>\n",
       "      <td>0.547348</td>\n",
       "      <td>-0.065507</td>\n",
       "      <td>0.259220</td>\n",
       "      <td>-0.031713</td>\n",
       "      <td>-0.028517</td>\n",
       "      <td>0.328848</td>\n",
       "      <td>0.014472</td>\n",
       "      <td>-0.011820</td>\n",
       "      <td>-0.035653</td>\n",
       "      <td>0.008998</td>\n",
       "      <td>0.117551</td>\n",
       "      <td>-0.010763</td>\n",
       "      <td>-0.004985</td>\n",
       "      <td>-0.023916</td>\n",
       "      <td>0.070397</td>\n",
       "      <td>-0.024363</td>\n",
       "      <td>-0.043945</td>\n",
       "      <td>0.022246</td>\n",
       "      <td>-0.011760</td>\n",
       "    </tr>\n",
       "    <tr>\n",
       "      <th>1</th>\n",
       "      <td>0.222453</td>\n",
       "      <td>-0.401375</td>\n",
       "      <td>-0.149214</td>\n",
       "      <td>0.416235</td>\n",
       "      <td>0.517619</td>\n",
       "      <td>0.326788</td>\n",
       "      <td>-0.040760</td>\n",
       "      <td>-0.160329</td>\n",
       "      <td>0.019882</td>\n",
       "      <td>-0.008001</td>\n",
       "      <td>-0.194630</td>\n",
       "      <td>0.042777</td>\n",
       "      <td>-0.120364</td>\n",
       "      <td>-0.090036</td>\n",
       "      <td>0.070970</td>\n",
       "      <td>0.039800</td>\n",
       "      <td>-0.050011</td>\n",
       "      <td>0.024612</td>\n",
       "      <td>-0.018056</td>\n",
       "      <td>-0.009037</td>\n",
       "    </tr>\n",
       "    <tr>\n",
       "      <th>2</th>\n",
       "      <td>-1.724482</td>\n",
       "      <td>0.541494</td>\n",
       "      <td>0.266741</td>\n",
       "      <td>0.219887</td>\n",
       "      <td>0.057132</td>\n",
       "      <td>-0.230626</td>\n",
       "      <td>0.092848</td>\n",
       "      <td>0.079881</td>\n",
       "      <td>-0.189475</td>\n",
       "      <td>0.188156</td>\n",
       "      <td>0.083227</td>\n",
       "      <td>-0.201621</td>\n",
       "      <td>-0.062968</td>\n",
       "      <td>0.118030</td>\n",
       "      <td>-0.012283</td>\n",
       "      <td>0.120973</td>\n",
       "      <td>0.023888</td>\n",
       "      <td>-0.074874</td>\n",
       "      <td>-0.013971</td>\n",
       "      <td>-0.020977</td>\n",
       "    </tr>\n",
       "    <tr>\n",
       "      <th>3</th>\n",
       "      <td>0.501280</td>\n",
       "      <td>-0.116524</td>\n",
       "      <td>-0.139548</td>\n",
       "      <td>-0.644771</td>\n",
       "      <td>0.457125</td>\n",
       "      <td>-0.250461</td>\n",
       "      <td>0.109668</td>\n",
       "      <td>0.135087</td>\n",
       "      <td>-0.236324</td>\n",
       "      <td>0.103669</td>\n",
       "      <td>0.013051</td>\n",
       "      <td>0.037171</td>\n",
       "      <td>-0.011073</td>\n",
       "      <td>-0.028694</td>\n",
       "      <td>-0.033629</td>\n",
       "      <td>-0.016700</td>\n",
       "      <td>-0.002801</td>\n",
       "      <td>0.076473</td>\n",
       "      <td>0.053513</td>\n",
       "      <td>-0.009305</td>\n",
       "    </tr>\n",
       "    <tr>\n",
       "      <th>4</th>\n",
       "      <td>1.723193</td>\n",
       "      <td>0.619242</td>\n",
       "      <td>0.008604</td>\n",
       "      <td>0.366521</td>\n",
       "      <td>0.229434</td>\n",
       "      <td>0.049678</td>\n",
       "      <td>0.236404</td>\n",
       "      <td>-0.206445</td>\n",
       "      <td>0.190842</td>\n",
       "      <td>0.002070</td>\n",
       "      <td>0.055769</td>\n",
       "      <td>0.064508</td>\n",
       "      <td>-0.009780</td>\n",
       "      <td>-0.005953</td>\n",
       "      <td>-0.075013</td>\n",
       "      <td>-0.004833</td>\n",
       "      <td>-0.005348</td>\n",
       "      <td>-0.048254</td>\n",
       "      <td>-0.028302</td>\n",
       "      <td>0.003514</td>\n",
       "    </tr>\n",
       "  </tbody>\n",
       "</table>\n",
       "</div>"
      ],
      "text/plain": [
       "   pca_comp_0  pca_comp_1  pca_comp_2  pca_comp_3  pca_comp_4  pca_comp_5  \\\n",
       "0    1.647660    0.547348   -0.065507    0.259220   -0.031713   -0.028517   \n",
       "1    0.222453   -0.401375   -0.149214    0.416235    0.517619    0.326788   \n",
       "2   -1.724482    0.541494    0.266741    0.219887    0.057132   -0.230626   \n",
       "3    0.501280   -0.116524   -0.139548   -0.644771    0.457125   -0.250461   \n",
       "4    1.723193    0.619242    0.008604    0.366521    0.229434    0.049678   \n",
       "\n",
       "   pca_comp_6  pca_comp_7  pca_comp_8  pca_comp_9  pca_comp_10  pca_comp_11  \\\n",
       "0    0.328848    0.014472   -0.011820   -0.035653     0.008998     0.117551   \n",
       "1   -0.040760   -0.160329    0.019882   -0.008001    -0.194630     0.042777   \n",
       "2    0.092848    0.079881   -0.189475    0.188156     0.083227    -0.201621   \n",
       "3    0.109668    0.135087   -0.236324    0.103669     0.013051     0.037171   \n",
       "4    0.236404   -0.206445    0.190842    0.002070     0.055769     0.064508   \n",
       "\n",
       "   pca_comp_12  pca_comp_13  pca_comp_14  pca_comp_15  pca_comp_16  \\\n",
       "0    -0.010763    -0.004985    -0.023916     0.070397    -0.024363   \n",
       "1    -0.120364    -0.090036     0.070970     0.039800    -0.050011   \n",
       "2    -0.062968     0.118030    -0.012283     0.120973     0.023888   \n",
       "3    -0.011073    -0.028694    -0.033629    -0.016700    -0.002801   \n",
       "4    -0.009780    -0.005953    -0.075013    -0.004833    -0.005348   \n",
       "\n",
       "   pca_comp_17  pca_comp_18  pca_comp_19  \n",
       "0    -0.043945     0.022246    -0.011760  \n",
       "1     0.024612    -0.018056    -0.009037  \n",
       "2    -0.074874    -0.013971    -0.020977  \n",
       "3     0.076473     0.053513    -0.009305  \n",
       "4    -0.048254    -0.028302     0.003514  "
      ]
     },
     "execution_count": 24,
     "metadata": {},
     "output_type": "execute_result"
    }
   ],
   "source": [
    "columns = ['pca_comp_%i' % i for i in range(20)]\n",
    "X_test2  = pd.DataFrame(X_test_pca, columns=columns)\n",
    "X_test2.head()"
   ]
  },
  {
   "cell_type": "code",
   "execution_count": 25,
   "id": "611104e5",
   "metadata": {},
   "outputs": [],
   "source": [
    "X_test= X_test2[[\"pca_comp_2\", \"pca_comp_3\",\"pca_comp_1\",\"pca_comp_12\", \"pca_comp_0\",\"pca_comp_5\"]]"
   ]
  },
  {
   "cell_type": "code",
   "execution_count": 26,
   "id": "e76e4d58",
   "metadata": {},
   "outputs": [],
   "source": [
    "from imblearn.over_sampling import BorderlineSMOTE\n",
    "oversample = BorderlineSMOTE()\n",
    "X_resample, y_resample = oversample.fit_resample(X_train, y_train_pca)"
   ]
  },
  {
   "cell_type": "code",
   "execution_count": 27,
   "id": "742d7339",
   "metadata": {},
   "outputs": [],
   "source": [
    "X_train_pca.to_csv(r'I:\\\\verisetleri1\\\\USB-IDS1\\\\X_train.csv')\n",
    "X_test_pca.to_csv(r'I:\\\\verisetleri1\\\\USB-IDS1\\\\X_test.csv')\n",
    "Y_test.to_csv(r'I:\\\\verisetleri1\\\\USB-IDS1\\\\y_test.csv')\n",
    "y_train_pca.to_csv(r'I:\\\\verisetleri1\\\\USB-IDS1\\\\y_train.csv')"
   ]
  }
 ],
 "metadata": {
  "kernelspec": {
   "display_name": "Python 3",
   "language": "python",
   "name": "python3"
  },
  "language_info": {
   "codemirror_mode": {
    "name": "ipython",
    "version": 3
   },
   "file_extension": ".py",
   "mimetype": "text/x-python",
   "name": "python",
   "nbconvert_exporter": "python",
   "pygments_lexer": "ipython3",
   "version": "3.6.13"
  }
 },
 "nbformat": 4,
 "nbformat_minor": 5
}
