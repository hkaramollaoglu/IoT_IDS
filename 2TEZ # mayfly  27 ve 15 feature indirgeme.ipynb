{
 "cells": [
  {
   "cell_type": "code",
   "execution_count": 2,
   "id": "0b728c5c",
   "metadata": {},
   "outputs": [],
   "source": [
    "import pandas as pd\n",
    "import numpy as np\n",
    "from matplotlib import pyplot as plt\n",
    "import seaborn as sns\n",
    "\n",
    "import pandas as pd\n",
    "import numpy as np\n",
    "from matplotlib import pyplot as plt\n",
    "import seaborn as sns\n",
    "import time\n",
    "start = time.time()\n",
    "#read data in chunks of 1 million rows at a time\n",
    "chunk1 = pd.read_csv('I:\\\\NIDS3\\\\X.csv',chunksize=1000000)\n",
    "chunk2 = pd.read_csv('I:\\\\NIDS3\\\\y.csv',chunksize=1000000)\n",
    "X = pd.concat(chunk1)\n",
    "y = pd.concat(chunk2)"
   ]
  },
  {
   "cell_type": "code",
   "execution_count": 3,
   "id": "eda31096",
   "metadata": {},
   "outputs": [],
   "source": [
    "X= X.drop(['Unnamed: 0'], axis=1)"
   ]
  },
  {
   "cell_type": "code",
   "execution_count": 4,
   "id": "e5432df2",
   "metadata": {},
   "outputs": [],
   "source": [
    "y= y.drop(['Unnamed: 0'], axis=1)"
   ]
  },
  {
   "cell_type": "code",
   "execution_count": 5,
   "id": "465a2760",
   "metadata": {},
   "outputs": [],
   "source": [
    "X_train, X_test, y_train, y_test = train_test_split(X, y, test_size=0.25, random_state=42)"
   ]
  },
  {
   "cell_type": "code",
   "execution_count": 7,
   "id": "bd3417f7",
   "metadata": {},
   "outputs": [],
   "source": [
    "Y_test=Y_test['77']\n",
    "Y_train=Y_train['77']"
   ]
  },
  {
   "cell_type": "code",
   "execution_count": null,
   "id": "04c987db",
   "metadata": {},
   "outputs": [],
   "source": [
    "import gc\n",
    "\n",
    "gc.collect()"
   ]
  },
  {
   "cell_type": "code",
   "execution_count": 8,
   "id": "1898e88d",
   "metadata": {},
   "outputs": [],
   "source": [
    "del x_train"
   ]
  },
  {
   "cell_type": "code",
   "execution_count": 9,
   "id": "b96f240a",
   "metadata": {},
   "outputs": [],
   "source": [
    "del x_test"
   ]
  },
  {
   "cell_type": "code",
   "execution_count": 10,
   "id": "3511bd22",
   "metadata": {},
   "outputs": [],
   "source": [
    "del y_train"
   ]
  },
  {
   "cell_type": "code",
   "execution_count": 11,
   "id": "0ec4ba2f",
   "metadata": {},
   "outputs": [],
   "source": [
    "del y_test"
   ]
  },
  {
   "cell_type": "code",
   "execution_count": 12,
   "id": "f236cf0e",
   "metadata": {},
   "outputs": [
    {
     "name": "stdout",
     "output_type": "stream",
     "text": [
      "(2697349, 77)\n",
      "number of labels: 2\n",
      "instances per label\n",
      " 1    1982631\n",
      "0     714718\n",
      "Name: 77, dtype: int64\n",
      "labels: [0 1]\n"
     ]
    }
   ],
   "source": [
    "from sklearn.model_selection import train_test_split\n",
    "from collections import Counter\n",
    "\n",
    "labels = Y_test.unique()\n",
    "\n",
    "classes = Y_test.nunique()\n",
    "print(X_test.shape)\n",
    "print(\"number of labels:\", classes)\n",
    "print(\"instances per label\\n\", Y_test.value_counts())\n",
    "print(\"labels:\", labels)"
   ]
  },
  {
   "cell_type": "code",
   "execution_count": 13,
   "id": "6afc3678",
   "metadata": {},
   "outputs": [
    {
     "name": "stdout",
     "output_type": "stream",
     "text": [
      "(8092044, 77)\n",
      "number of labels: 2\n",
      "instances per label\n",
      " 1    5947891\n",
      "0    2144153\n",
      "Name: 77, dtype: int64\n",
      "labels: [0 1]\n"
     ]
    }
   ],
   "source": [
    "from sklearn.model_selection import train_test_split\n",
    "from collections import Counter\n",
    "\n",
    "labels = Y_train.unique()\n",
    "\n",
    "classes = Y_train.nunique()\n",
    "print(X_train.shape)\n",
    "print(\"number of labels:\", classes)\n",
    "print(\"instances per label\\n\", Y_train.value_counts())\n",
    "print(\"labels:\", labels)"
   ]
  },
  {
   "cell_type": "code",
   "execution_count": 14,
   "id": "769d1067",
   "metadata": {},
   "outputs": [],
   "source": [
    "from sklearn.preprocessing import MinMaxScaler\n",
    "scaler = MinMaxScaler()\n",
    "model=scaler.fit(X_train)\n",
    "X_train=model.transform(X_train)"
   ]
  },
  {
   "cell_type": "code",
   "execution_count": 15,
   "id": "38e00ce5",
   "metadata": {},
   "outputs": [],
   "source": [
    "from sklearn.preprocessing import MinMaxScaler\n",
    "scaler = MinMaxScaler()\n",
    "model=scaler.fit(X_test)\n",
    "X_test=model.transform(X_test)"
   ]
  },
  {
   "cell_type": "code",
   "execution_count": 16,
   "id": "a2c2d8d0",
   "metadata": {},
   "outputs": [],
   "source": [
    "from sklearn.decomposition import PCA\n",
    "import matplotlib.pyplot as plt\n",
    "import seaborn as sns\n",
    "from sklearn.utils import resample\n",
    "# %matplotlib inline\n",
    "\n",
    "X_train_pca, y_train_pca = resample(X_train, Y_train,test_size=0.3, random_state=42, stratify=Y_train)\n",
    "pca = PCA(0.99)\n",
    "X_train_pca = pca.fit_transform(X_train_pca)"
   ]
  },
  {
   "cell_type": "code",
   "execution_count": 17,
   "id": "1fc449ba",
   "metadata": {},
   "outputs": [
    {
     "data": {
      "text/plain": [
       "(8092044, 27)"
      ]
     },
     "execution_count": 17,
     "metadata": {},
     "output_type": "execute_result"
    }
   ],
   "source": [
    "X_train_pca.shape"
   ]
  },
  {
   "cell_type": "code",
   "execution_count": 18,
   "id": "dfd234c0",
   "metadata": {},
   "outputs": [],
   "source": [
    "X_test_pca, y_test_pca = resample(X_test, Y_test, random_state=42, stratify=Y_test)\n",
    "X_test_pca = pca.transform(X_test_pca)"
   ]
  },
  {
   "cell_type": "code",
   "execution_count": 20,
   "id": "c7dda03f",
   "metadata": {},
   "outputs": [
    {
     "name": "stdout",
     "output_type": "stream",
     "text": [
      "0.9904707602960768\n"
     ]
    }
   ],
   "source": [
    "print(sum(pca.explained_variance_ratio_))"
   ]
  },
  {
   "cell_type": "code",
   "execution_count": null,
   "id": "d3428839",
   "metadata": {},
   "outputs": [],
   "source": [
    "pca.get_covariance()"
   ]
  },
  {
   "cell_type": "code",
   "execution_count": 21,
   "id": "f2d0335d",
   "metadata": {},
   "outputs": [
    {
     "data": {
      "text/plain": [
       "array([0.40369249, 0.18434893, 0.0927127 , 0.07635453, 0.04756691,\n",
       "       0.0305478 , 0.02448891, 0.02094955, 0.01643544, 0.0141003 ,\n",
       "       0.01169098, 0.0112379 , 0.00914961, 0.00743952, 0.00637158,\n",
       "       0.0056868 , 0.00505022, 0.00435428, 0.00343989, 0.00276656,\n",
       "       0.00263907, 0.00221937, 0.00185577, 0.00167102, 0.00135773,\n",
       "       0.00124861, 0.0010943 ])"
      ]
     },
     "execution_count": 21,
     "metadata": {},
     "output_type": "execute_result"
    }
   ],
   "source": [
    "explained_variance=pca.explained_variance_ratio_\n",
    "explained_variance"
   ]
  },
  {
   "cell_type": "code",
   "execution_count": 19,
   "id": "25287a5c",
   "metadata": {},
   "outputs": [],
   "source": []
  },
  {
   "cell_type": "code",
   "execution_count": null,
   "id": "aae455cb",
   "metadata": {},
   "outputs": [],
   "source": []
  },
  {
   "cell_type": "code",
   "execution_count": null,
   "id": "ff9ee20c",
   "metadata": {},
   "outputs": [],
   "source": [
    "y_train_pca.head()"
   ]
  },
  {
   "cell_type": "code",
   "execution_count": null,
   "id": "3c8a5891",
   "metadata": {},
   "outputs": [],
   "source": [
    "from Py_FS.wrapper.nature_inspired.MA import MA as FS\n",
    "solution = FS(num_agents=30, max_iter=5, train_data=data, train_label=target, save_conv_graph=True)"
   ]
  },
  {
   "cell_type": "code",
   "execution_count": 24,
   "id": "23e21791",
   "metadata": {},
   "outputs": [
    {
     "name": "stdout",
     "output_type": "stream",
     "text": [
      "\n"
     ]
    }
   ],
   "source": [
    "from sklearn.feature_selection import SelectKBest\n",
    "from sklearn.feature_selection import chi2, f_regression, f_classif\n",
    "data = X_train_pca\n",
    "target = y_train_pca"
   ]
  },
  {
   "cell_type": "code",
   "execution_count": 25,
   "id": "8f8f6fe8",
   "metadata": {},
   "outputs": [
    {
     "name": "stdout",
     "output_type": "stream",
     "text": [
      "\n"
     ]
    }
   ],
   "source": [
    "from Py_FS.filter import PCC as FS\n",
    "\n",
    "solution = FS(data, target)"
   ]
  },
  {
   "cell_type": "code",
   "execution_count": 28,
   "id": "1616ea30",
   "metadata": {},
   "outputs": [
    {
     "name": "stdout",
     "output_type": "stream",
     "text": [
      "================================================================================\n",
      "                                 Iteration - 1                                  \n",
      "================================================================================\n",
      "\n",
      "Number of agents: 30\n",
      "\n",
      "------------- Best Agent ---------------\n",
      "Fitness: 0.9557004048199392\n",
      "Number of Features: 10\n",
      "----------------------------------------\n",
      "Mayfly 0 - Fitness: 0.9557004048199392, Number of Features: 10\n",
      "Mayfly 1 - Fitness: 0.9551439846694287, Number of Features: 10\n",
      "Mayfly 2 - Fitness: 0.9551439846694287, Number of Features: 10\n",
      "Mayfly 3 - Fitness: 0.9551439846694287, Number of Features: 10\n",
      "Mayfly 4 - Fitness: 0.9551439846694287, Number of Features: 10\n",
      "Mayfly 5 - Fitness: 0.9551439846694287, Number of Features: 10\n",
      "Mayfly 6 - Fitness: 0.9551439846694287, Number of Features: 10\n",
      "Mayfly 7 - Fitness: 0.9551439846694287, Number of Features: 10\n",
      "Mayfly 8 - Fitness: 0.9551439846694287, Number of Features: 10\n",
      "Mayfly 9 - Fitness: 0.9503367182818011, Number of Features: 11\n",
      "Mayfly 10 - Fitness: 0.9503367182818011, Number of Features: 11\n",
      "Mayfly 11 - Fitness: 0.9503367182818011, Number of Features: 11\n",
      "Mayfly 12 - Fitness: 0.9501448492643837, Number of Features: 11\n",
      "Mayfly 13 - Fitness: 0.9501448492643837, Number of Features: 11\n",
      "Mayfly 14 - Fitness: 0.9498762326399993, Number of Features: 11\n",
      "Mayfly 15 - Fitness: 0.9498762326399993, Number of Features: 11\n",
      "Mayfly 16 - Fitness: 0.94922387798078, Number of Features: 11\n",
      "Mayfly 17 - Fitness: 0.9455294518941735, Number of Features: 12\n",
      "Mayfly 18 - Fitness: 0.9455294518941735, Number of Features: 12\n",
      "Mayfly 19 - Fitness: 0.9450881531541135, Number of Features: 12\n",
      "Mayfly 20 - Fitness: 0.9446276675123115, Number of Features: 12\n",
      "Mayfly 21 - Fitness: 0.9446276675123115, Number of Features: 12\n",
      "Mayfly 22 - Fitness: 0.943994499754834, Number of Features: 12\n",
      "Mayfly 23 - Fitness: 0.943994499754834, Number of Features: 12\n",
      "Mayfly 24 - Fitness: 0.9398012142229423, Number of Features: 12\n",
      "Mayfly 25 - Fitness: 0.9391104857602395, Number of Features: 13\n",
      "Mayfly 26 - Fitness: 0.9346293967022217, Number of Features: 13\n",
      "Mayfly 27 - Fitness: 0.9345334621935129, Number of Features: 14\n",
      "Mayfly 28 - Fitness: 0.9345334621935129, Number of Features: 14\n",
      "Mayfly 29 - Fitness: 0.934303219372612, Number of Features: 14\n",
      "Mayfly 30 - Fitness: 0.9337467992221014, Number of Features: 14\n",
      "Mayfly 31 - Fitness: 0.9336892385168761, Number of Features: 14\n",
      "================================================================================\n",
      "                                 Iteration - 2                                  \n",
      "================================================================================\n",
      "\n",
      "Number of agents: 30\n",
      "\n",
      "------------- Best Agent ---------------\n",
      "Fitness: 0.960565231912792\n",
      "Number of Features: 9\n",
      "----------------------------------------\n",
      "Mayfly 0 - Fitness: 0.960565231912792, Number of Features: 9\n",
      "Mayfly 1 - Fitness: 0.960565231912792, Number of Features: 9\n",
      "Mayfly 2 - Fitness: 0.955566096507747, Number of Features: 10\n",
      "Mayfly 3 - Fitness: 0.955566096507747, Number of Features: 10\n",
      "Mayfly 4 - Fitness: 0.955566096507747, Number of Features: 10\n",
      "Mayfly 5 - Fitness: 0.955566096507747, Number of Features: 10\n",
      "Mayfly 6 - Fitness: 0.955566096507747, Number of Features: 10\n",
      "Mayfly 7 - Fitness: 0.955566096507747, Number of Features: 10\n",
      "Mayfly 8 - Fitness: 0.955566096507747, Number of Features: 10\n",
      "Mayfly 9 - Fitness: 0.9505094003974768, Number of Features: 11\n",
      "Mayfly 10 - Fitness: 0.950048914755675, Number of Features: 11\n",
      "Mayfly 11 - Fitness: 0.950048914755675, Number of Features: 11\n",
      "Mayfly 12 - Fitness: 0.950048914755675, Number of Features: 11\n",
      "Mayfly 13 - Fitness: 0.950048914755675, Number of Features: 11\n",
      "Mayfly 14 - Fitness: 0.94549107809069, Number of Features: 12\n",
      "Mayfly 15 - Fitness: 0.9446468544140534, Number of Features: 12\n",
      "Mayfly 16 - Fitness: 0.9446468544140534, Number of Features: 12\n",
      "Mayfly 17 - Fitness: 0.9446468544140534, Number of Features: 12\n",
      "Mayfly 18 - Fitness: 0.9446468544140534, Number of Features: 12\n",
      "Mayfly 19 - Fitness: 0.9440904342635428, Number of Features: 12\n",
      "Mayfly 20 - Fitness: 0.9403192605699694, Number of Features: 13\n",
      "Mayfly 21 - Fitness: 0.9391104857602395, Number of Features: 13\n",
      "Mayfly 22 - Fitness: 0.9389186167428221, Number of Features: 13\n",
      "Mayfly 23 - Fitness: 0.9345334621935129, Number of Features: 14\n",
      "Mayfly 24 - Fitness: 0.9345142752917712, Number of Features: 14\n",
      "Mayfly 25 - Fitness: 0.9343415931760956, Number of Features: 14\n",
      "Mayfly 26 - Fitness: 0.933708425418618, Number of Features: 14\n",
      "Mayfly 27 - Fitness: 0.9333630611872665, Number of Features: 14\n",
      "Mayfly 28 - Fitness: 0.9290162804414409, Number of Features: 15\n",
      "Mayfly 29 - Fitness: 0.9289970935396992, Number of Features: 15\n",
      "================================================================================\n",
      "                                 Iteration - 3                                  \n",
      "================================================================================\n",
      "\n",
      "Number of agents: 30\n",
      "\n",
      "------------- Best Agent ---------------\n",
      "Fitness: 0.9546259383224016\n",
      "Number of Features: 10\n",
      "----------------------------------------\n",
      "Mayfly 0 - Fitness: 0.9546259383224016, Number of Features: 10\n",
      "Mayfly 1 - Fitness: 0.9546259383224016, Number of Features: 10\n",
      "Mayfly 2 - Fitness: 0.9546259383224016, Number of Features: 10\n",
      "Mayfly 3 - Fitness: 0.9546259383224016, Number of Features: 10\n",
      "Mayfly 4 - Fitness: 0.9546259383224016, Number of Features: 10\n",
      "Mayfly 5 - Fitness: 0.9546259383224016, Number of Features: 10\n",
      "Mayfly 6 - Fitness: 0.9546259383224016, Number of Features: 10\n",
      "Mayfly 7 - Fitness: 0.9546259383224016, Number of Features: 10\n",
      "Mayfly 8 - Fitness: 0.9546259383224016, Number of Features: 10\n",
      "Mayfly 9 - Fitness: 0.9546259383224016, Number of Features: 10\n",
      "Mayfly 10 - Fitness: 0.940127391552552, Number of Features: 13\n",
      "Mayfly 11 - Fitness: 0.940127391552552, Number of Features: 13\n",
      "Mayfly 12 - Fitness: 0.9390912988584977, Number of Features: 13\n",
      "Mayfly 13 - Fitness: 0.9389761774480473, Number of Features: 13\n",
      "Mayfly 14 - Fitness: 0.9347061443091886, Number of Features: 14\n",
      "Mayfly 15 - Fitness: 0.9343607800778372, Number of Features: 14\n",
      "Mayfly 16 - Fitness: 0.9336892385168761, Number of Features: 14\n",
      "Mayfly 17 - Fitness: 0.9335933040081674, Number of Features: 14\n",
      "Mayfly 18 - Fitness: 0.9290162804414409, Number of Features: 15\n",
      "Mayfly 19 - Fitness: 0.9289779066379573, Number of Features: 15\n",
      "Mayfly 20 - Fitness: 0.9287284769153148, Number of Features: 15\n",
      "Mayfly 21 - Fitness: 0.928555794799639, Number of Features: 15\n",
      "Mayfly 22 - Fitness: 0.928555794799639, Number of Features: 15\n",
      "Mayfly 23 - Fitness: 0.928555794799639, Number of Features: 15\n",
      "Mayfly 24 - Fitness: 0.9283639257822216, Number of Features: 15\n",
      "Mayfly 25 - Fitness: 0.9236717808050445, Number of Features: 16\n",
      "Mayfly 26 - Fitness: 0.9235566593945941, Number of Features: 16\n",
      "Mayfly 27 - Fitness: 0.9234415379841436, Number of Features: 16\n",
      "Mayfly 28 - Fitness: 0.9233647903771766, Number of Features: 16\n",
      "Mayfly 29 - Fitness: 0.9233072296719513, Number of Features: 16\n",
      "================================================================================\n",
      "                                 Iteration - 4                                  \n",
      "================================================================================\n",
      "\n",
      "Number of agents: 30\n",
      "\n",
      "------------- Best Agent ---------------\n",
      "Fitness: 0.9660248529596388\n",
      "Number of Features: 8\n",
      "----------------------------------------\n",
      "Mayfly 0 - Fitness: 0.9660248529596388, Number of Features: 8\n",
      "Mayfly 1 - Fitness: 0.9660248529596388, Number of Features: 8\n",
      "Mayfly 2 - Fitness: 0.9513536240741136, Number of Features: 11\n",
      "Mayfly 3 - Fitness: 0.9513536240741136, Number of Features: 11\n",
      "Mayfly 4 - Fitness: 0.9505477742009604, Number of Features: 11\n",
      "Mayfly 5 - Fitness: 0.9488977006511704, Number of Features: 11\n",
      "Mayfly 6 - Fitness: 0.9488977006511704, Number of Features: 11\n",
      "Mayfly 7 - Fitness: 0.9488977006511704, Number of Features: 11\n",
      "Mayfly 8 - Fitness: 0.9455102649924318, Number of Features: 12\n",
      "Mayfly 9 - Fitness: 0.945414330483723, Number of Features: 12\n",
      "Mayfly 10 - Fitness: 0.9400890177490684, Number of Features: 13\n",
      "Mayfly 11 - Fitness: 0.9400890177490684, Number of Features: 13\n",
      "Mayfly 12 - Fitness: 0.9400890177490684, Number of Features: 13\n",
      "Mayfly 13 - Fitness: 0.9400890177490684, Number of Features: 13\n",
      "Mayfly 14 - Fitness: 0.9397052797142336, Number of Features: 13\n",
      "Mayfly 15 - Fitness: 0.9396477190090083, Number of Features: 13\n",
      "Mayfly 16 - Fitness: 0.9396477190090083, Number of Features: 13\n",
      "Mayfly 17 - Fitness: 0.9396477190090083, Number of Features: 13\n",
      "Mayfly 18 - Fitness: 0.9392256071706899, Number of Features: 13\n",
      "Mayfly 19 - Fitness: 0.9391872333672064, Number of Features: 13\n",
      "Mayfly 20 - Fitness: 0.9391872333672064, Number of Features: 13\n",
      "Mayfly 21 - Fitness: 0.9391872333672064, Number of Features: 14\n",
      "Mayfly 22 - Fitness: 0.9342456586673867, Number of Features: 14\n",
      "Mayfly 23 - Fitness: 0.9340921634534528, Number of Features: 14\n",
      "Mayfly 24 - Fitness: 0.9336700516151344, Number of Features: 15\n",
      "Mayfly 25 - Fitness: 0.9290930280484078, Number of Features: 15\n",
      "Mayfly 26 - Fitness: 0.9290162804414409, Number of Features: 15\n",
      "Mayfly 27 - Fitness: 0.9289970935396992, Number of Features: 15\n",
      "Mayfly 28 - Fitness: 0.9287092900135729, Number of Features: 15\n",
      "================================================================================\n",
      "                                 Iteration - 5                                  \n",
      "================================================================================\n",
      "\n",
      "Number of agents: 30\n",
      "\n",
      "------------- Best Agent ---------------\n",
      "Fitness: 0.9456253864028823\n",
      "Number of Features: 12\n",
      "----------------------------------------\n",
      "Mayfly 0 - Fitness: 0.9456253864028823, Number of Features: 12\n",
      "Mayfly 1 - Fitness: 0.9440520604600593, Number of Features: 12\n",
      "Mayfly 2 - Fitness: 0.9438793783443835, Number of Features: 12\n",
      "Mayfly 3 - Fitness: 0.9401849522577772, Number of Features: 13\n",
      "Mayfly 4 - Fitness: 0.9398971487316511, Number of Features: 13\n",
      "Mayfly 5 - Fitness: 0.9398971487316511, Number of Features: 13\n",
      "Mayfly 6 - Fitness: 0.9398971487316511, Number of Features: 13\n",
      "Mayfly 7 - Fitness: 0.9398971487316511, Number of Features: 13\n",
      "Mayfly 8 - Fitness: 0.9398971487316511, Number of Features: 13\n",
      "Mayfly 9 - Fitness: 0.9398971487316511, Number of Features: 13\n",
      "Mayfly 10 - Fitness: 0.9398971487316511, Number of Features: 13\n",
      "Mayfly 11 - Fitness: 0.9398587749281675, Number of Features: 13\n",
      "Mayfly 12 - Fitness: 0.9398587749281675, Number of Features: 13\n",
      "Mayfly 13 - Fitness: 0.9398587749281675, Number of Features: 13\n",
      "Mayfly 14 - Fitness: 0.9398587749281675, Number of Features: 13\n",
      "Mayfly 15 - Fitness: 0.9396860928124918, Number of Features: 13\n",
      "Mayfly 16 - Fitness: 0.9395709714020413, Number of Features: 13\n",
      "Mayfly 17 - Fitness: 0.9395709714020413, Number of Features: 13\n",
      "Mayfly 18 - Fitness: 0.9395709714020413, Number of Features: 14\n",
      "Mayfly 19 - Fitness: 0.9346102098004799, Number of Features: 14\n",
      "Mayfly 20 - Fitness: 0.9344375276848041, Number of Features: 14\n",
      "Mayfly 21 - Fitness: 0.9343224062743537, Number of Features: 14\n",
      "Mayfly 22 - Fitness: 0.934226471765645, Number of Features: 14\n",
      "Mayfly 23 - Fitness: 0.933171192169849, Number of Features: 15\n",
      "Mayfly 24 - Fitness: 0.9289970935396992, Number of Features: 15\n",
      "Mayfly 25 - Fitness: 0.9289203459327321, Number of Features: 15\n",
      "Mayfly 26 - Fitness: 0.9289011590309905, Number of Features: 15\n",
      "Mayfly 27 - Fitness: 0.9288819721292486, Number of Features: 15\n",
      "Mayfly 28 - Fitness: 0.9275580759090682, Number of Features: 16\n",
      "Mayfly 29 - Fitness: 0.923633407001561, Number of Features: 16\n",
      "Mayfly 30 - Fitness: 0.9235566593945941, Number of Features: 16\n",
      "================================================================================\n",
      "                                  Final Result                                  \n",
      "================================================================================\n",
      "Leader Mayfly Dimension : 15\n",
      "Leader Mayfly Fitness : 0.9456253864028823\n",
      "Leader Mayfly Classification Accuracy : 0.9961819557848509\n",
      "================================================================================\n"
     ]
    }
   ],
   "source": [
    "from Py_FS.wrapper.nature_inspired.MA import MA as FS\n",
    "solution = FS(num_agents=30, max_iter=5, train_data=data, train_label=target, save_conv_graph=True)"
   ]
  },
  {
   "cell_type": "code",
   "execution_count": 36,
   "id": "2ece95b7",
   "metadata": {},
   "outputs": [
    {
     "name": "stdout",
     "output_type": "stream",
     "text": [
      "array([1., 1., 0., 1., 1., 1., 0., 1., 1., 1., 1., 1., 1., 1., 1., 0., 0., 1.,0.,0.,0.,1., 0., 0., 0., 0., 0.])\n"
     ]
    }
   ],
   "source": [
    "solution.best_agent"
   ]
  },
  {
   "cell_type": "code",
   "execution_count": null,
   "id": "3f53ca42",
   "metadata": {},
   "outputs": [],
   "source": []
  },
  {
   "cell_type": "code",
   "execution_count": 27,
   "id": "74a2766e",
   "metadata": {},
   "outputs": [],
   "source": [
    "X_train= X_train2[[\"pca_comp_1\", \"pca_comp_3\",\"pca_comp_0\",\"pca_comp_11\", \"pca_comp_10\",\"pca_comp_14\", \"pca_comp_4\",\"pca_comp_9\",\"pca_comp_7\", \"pca_comp_8\", \"pca_comp_17\",\"pca_comp_12\", \"pca_comp_5\",\"pca_comp_21\", \"pca_comp_13\"]]"
   ]
  },
  {
   "cell_type": "code",
   "execution_count": 28,
   "id": "6ba37c4e",
   "metadata": {},
   "outputs": [
    {
     "data": {
      "text/html": [
       "<div>\n",
       "<style scoped>\n",
       "    .dataframe tbody tr th:only-of-type {\n",
       "        vertical-align: middle;\n",
       "    }\n",
       "\n",
       "    .dataframe tbody tr th {\n",
       "        vertical-align: top;\n",
       "    }\n",
       "\n",
       "    .dataframe thead th {\n",
       "        text-align: right;\n",
       "    }\n",
       "</style>\n",
       "<table border=\"1\" class=\"dataframe\">\n",
       "  <thead>\n",
       "    <tr style=\"text-align: right;\">\n",
       "      <th></th>\n",
       "      <th>pca_comp_0</th>\n",
       "      <th>pca_comp_1</th>\n",
       "      <th>pca_comp_2</th>\n",
       "      <th>pca_comp_3</th>\n",
       "      <th>pca_comp_4</th>\n",
       "      <th>pca_comp_5</th>\n",
       "      <th>pca_comp_6</th>\n",
       "      <th>pca_comp_7</th>\n",
       "      <th>pca_comp_8</th>\n",
       "      <th>pca_comp_9</th>\n",
       "      <th>...</th>\n",
       "      <th>pca_comp_17</th>\n",
       "      <th>pca_comp_18</th>\n",
       "      <th>pca_comp_19</th>\n",
       "      <th>pca_comp_20</th>\n",
       "      <th>pca_comp_21</th>\n",
       "      <th>pca_comp_22</th>\n",
       "      <th>pca_comp_23</th>\n",
       "      <th>pca_comp_24</th>\n",
       "      <th>pca_comp_25</th>\n",
       "      <th>pca_comp_26</th>\n",
       "    </tr>\n",
       "  </thead>\n",
       "  <tbody>\n",
       "    <tr>\n",
       "      <th>0</th>\n",
       "      <td>-1.535199</td>\n",
       "      <td>0.643503</td>\n",
       "      <td>0.640147</td>\n",
       "      <td>0.472843</td>\n",
       "      <td>-0.540313</td>\n",
       "      <td>-0.148436</td>\n",
       "      <td>0.024088</td>\n",
       "      <td>-0.039407</td>\n",
       "      <td>0.352703</td>\n",
       "      <td>0.488985</td>\n",
       "      <td>...</td>\n",
       "      <td>-0.019884</td>\n",
       "      <td>-0.042647</td>\n",
       "      <td>0.015978</td>\n",
       "      <td>-0.009457</td>\n",
       "      <td>-0.042230</td>\n",
       "      <td>-0.000095</td>\n",
       "      <td>-0.094897</td>\n",
       "      <td>-0.046386</td>\n",
       "      <td>-0.006350</td>\n",
       "      <td>-0.029055</td>\n",
       "    </tr>\n",
       "    <tr>\n",
       "      <th>1</th>\n",
       "      <td>1.660519</td>\n",
       "      <td>1.721298</td>\n",
       "      <td>-0.237157</td>\n",
       "      <td>-0.923703</td>\n",
       "      <td>0.007617</td>\n",
       "      <td>0.583265</td>\n",
       "      <td>0.157224</td>\n",
       "      <td>-0.082584</td>\n",
       "      <td>0.056587</td>\n",
       "      <td>-0.028794</td>\n",
       "      <td>...</td>\n",
       "      <td>-0.025262</td>\n",
       "      <td>0.101351</td>\n",
       "      <td>0.149284</td>\n",
       "      <td>-0.287998</td>\n",
       "      <td>0.005737</td>\n",
       "      <td>-0.204344</td>\n",
       "      <td>-0.070447</td>\n",
       "      <td>-0.105520</td>\n",
       "      <td>0.105228</td>\n",
       "      <td>-0.078294</td>\n",
       "    </tr>\n",
       "    <tr>\n",
       "      <th>2</th>\n",
       "      <td>-1.462506</td>\n",
       "      <td>0.547355</td>\n",
       "      <td>0.255810</td>\n",
       "      <td>0.352885</td>\n",
       "      <td>-0.504689</td>\n",
       "      <td>-0.024444</td>\n",
       "      <td>-0.223971</td>\n",
       "      <td>0.153732</td>\n",
       "      <td>0.333158</td>\n",
       "      <td>0.424308</td>\n",
       "      <td>...</td>\n",
       "      <td>-0.085647</td>\n",
       "      <td>0.004521</td>\n",
       "      <td>-0.032798</td>\n",
       "      <td>-0.007748</td>\n",
       "      <td>-0.036287</td>\n",
       "      <td>0.003555</td>\n",
       "      <td>-0.057054</td>\n",
       "      <td>-0.033366</td>\n",
       "      <td>-0.032536</td>\n",
       "      <td>-0.037350</td>\n",
       "    </tr>\n",
       "    <tr>\n",
       "      <th>3</th>\n",
       "      <td>-1.665602</td>\n",
       "      <td>0.752594</td>\n",
       "      <td>0.674215</td>\n",
       "      <td>0.703865</td>\n",
       "      <td>-0.321132</td>\n",
       "      <td>-0.012926</td>\n",
       "      <td>0.085886</td>\n",
       "      <td>-0.213393</td>\n",
       "      <td>0.190551</td>\n",
       "      <td>0.544616</td>\n",
       "      <td>...</td>\n",
       "      <td>-0.049723</td>\n",
       "      <td>-0.049363</td>\n",
       "      <td>-0.111071</td>\n",
       "      <td>-0.074592</td>\n",
       "      <td>0.032448</td>\n",
       "      <td>0.152432</td>\n",
       "      <td>-0.082481</td>\n",
       "      <td>0.068791</td>\n",
       "      <td>-0.025864</td>\n",
       "      <td>0.009718</td>\n",
       "    </tr>\n",
       "    <tr>\n",
       "      <th>4</th>\n",
       "      <td>1.223256</td>\n",
       "      <td>-0.634114</td>\n",
       "      <td>-0.183849</td>\n",
       "      <td>0.057025</td>\n",
       "      <td>-0.341244</td>\n",
       "      <td>0.164570</td>\n",
       "      <td>-0.193350</td>\n",
       "      <td>-0.266941</td>\n",
       "      <td>-0.057307</td>\n",
       "      <td>-0.021726</td>\n",
       "      <td>...</td>\n",
       "      <td>-0.032264</td>\n",
       "      <td>-0.085543</td>\n",
       "      <td>-0.009744</td>\n",
       "      <td>-0.018941</td>\n",
       "      <td>-0.068266</td>\n",
       "      <td>-0.012487</td>\n",
       "      <td>0.059271</td>\n",
       "      <td>0.000840</td>\n",
       "      <td>-0.009954</td>\n",
       "      <td>-0.052101</td>\n",
       "    </tr>\n",
       "  </tbody>\n",
       "</table>\n",
       "<p>5 rows × 27 columns</p>\n",
       "</div>"
      ],
      "text/plain": [
       "   pca_comp_0  pca_comp_1  pca_comp_2  pca_comp_3  pca_comp_4  pca_comp_5  \\\n",
       "0   -1.535199    0.643503    0.640147    0.472843   -0.540313   -0.148436   \n",
       "1    1.660519    1.721298   -0.237157   -0.923703    0.007617    0.583265   \n",
       "2   -1.462506    0.547355    0.255810    0.352885   -0.504689   -0.024444   \n",
       "3   -1.665602    0.752594    0.674215    0.703865   -0.321132   -0.012926   \n",
       "4    1.223256   -0.634114   -0.183849    0.057025   -0.341244    0.164570   \n",
       "\n",
       "   pca_comp_6  pca_comp_7  pca_comp_8  pca_comp_9  ...  pca_comp_17  \\\n",
       "0    0.024088   -0.039407    0.352703    0.488985  ...    -0.019884   \n",
       "1    0.157224   -0.082584    0.056587   -0.028794  ...    -0.025262   \n",
       "2   -0.223971    0.153732    0.333158    0.424308  ...    -0.085647   \n",
       "3    0.085886   -0.213393    0.190551    0.544616  ...    -0.049723   \n",
       "4   -0.193350   -0.266941   -0.057307   -0.021726  ...    -0.032264   \n",
       "\n",
       "   pca_comp_18  pca_comp_19  pca_comp_20  pca_comp_21  pca_comp_22  \\\n",
       "0    -0.042647     0.015978    -0.009457    -0.042230    -0.000095   \n",
       "1     0.101351     0.149284    -0.287998     0.005737    -0.204344   \n",
       "2     0.004521    -0.032798    -0.007748    -0.036287     0.003555   \n",
       "3    -0.049363    -0.111071    -0.074592     0.032448     0.152432   \n",
       "4    -0.085543    -0.009744    -0.018941    -0.068266    -0.012487   \n",
       "\n",
       "   pca_comp_23  pca_comp_24  pca_comp_25  pca_comp_26  \n",
       "0    -0.094897    -0.046386    -0.006350    -0.029055  \n",
       "1    -0.070447    -0.105520     0.105228    -0.078294  \n",
       "2    -0.057054    -0.033366    -0.032536    -0.037350  \n",
       "3    -0.082481     0.068791    -0.025864     0.009718  \n",
       "4     0.059271     0.000840    -0.009954    -0.052101  \n",
       "\n",
       "[5 rows x 27 columns]"
      ]
     },
     "execution_count": 28,
     "metadata": {},
     "output_type": "execute_result"
    }
   ],
   "source": [
    "columns = ['pca_comp_%i' % i for i in range(27)]\n",
    "X_test2  = pd.DataFrame(X_test_pca, columns=columns)\n",
    "X_test2.head()"
   ]
  },
  {
   "cell_type": "code",
   "execution_count": 29,
   "id": "c28787eb",
   "metadata": {},
   "outputs": [],
   "source": [
    "X_test= X_test2[[\"pca_comp_1\", \"pca_comp_3\",\"pca_comp_0\",\"pca_comp_11\", \"pca_comp_10\",\"pca_comp_14\", \"pca_comp_4\",\"pca_comp_9\",\"pca_comp_7\", \"pca_comp_8\", \"pca_comp_17\",\"pca_comp_12\", \"pca_comp_5\",\"pca_comp_21\", \"pca_comp_13\"]]"
   ]
  },
  {
   "cell_type": "code",
   "execution_count": 30,
   "id": "c57009d6",
   "metadata": {},
   "outputs": [],
   "source": [
    "from imblearn.over_sampling import BorderlineSMOTE\n",
    "oversample = BorderlineSMOTE()\n",
    "X_resample, y_resample = oversample.fit_resample(X_train, y_train_pca)"
   ]
  },
  {
   "cell_type": "code",
   "execution_count": 31,
   "id": "027d5d42",
   "metadata": {},
   "outputs": [],
   "source": [
    "X_train_pca.to_csv(r'I:\\\\verisetleri1\\\\X_train_pca.csv')\n",
    "X_test_pca.to_csv(r'I:\\\\verisetleri1\\\\X_test_pca.csv')\n",
    "Y_test.to_csv(r'I:\\\\verisetleri1\\\\y_test_pca.csv')\n",
    "y_train_pca.to_csv(r'I:\\\\verisetleri1\\\\y_train_pca.csv')"
   ]
  },
  {
   "cell_type": "code",
   "execution_count": 32,
   "id": "ddd4aea0",
   "metadata": {},
   "outputs": [],
   "source": [
    "X_resample.to_csv(r'I:\\\\verisetleri1\\\\X_train.csv')\n",
    "X_test.to_csv(r'I:\\\\verisetleri1\\\\X_test.csv')\n",
    "Y_test.to_csv(r'I:\\\\verisetleri1\\\\y_test.csv')\n",
    "y_resample.to_csv(r'I:\\\\verisetleri1\\\\y_train.csv')"
   ]
  },
  {
   "cell_type": "code",
   "execution_count": null,
   "id": "279db82d",
   "metadata": {},
   "outputs": [],
   "source": []
  }
 ],
 "metadata": {
  "kernelspec": {
   "display_name": "Python 3",
   "language": "python",
   "name": "python3"
  },
  "language_info": {
   "codemirror_mode": {
    "name": "ipython",
    "version": 3
   },
   "file_extension": ".py",
   "mimetype": "text/x-python",
   "name": "python",
   "nbconvert_exporter": "python",
   "pygments_lexer": "ipython3",
   "version": "3.6.13"
  }
 },
 "nbformat": 4,
 "nbformat_minor": 5
}
